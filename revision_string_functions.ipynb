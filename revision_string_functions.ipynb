{
  "nbformat": 4,
  "nbformat_minor": 0,
  "metadata": {
    "colab": {
      "provenance": [],
      "authorship_tag": "ABX9TyNiRVAldhOcbh1Amb7vyxh6",
      "include_colab_link": true
    },
    "kernelspec": {
      "name": "python3",
      "display_name": "Python 3"
    },
    "language_info": {
      "name": "python"
    }
  },
  "cells": [
    {
      "cell_type": "markdown",
      "metadata": {
        "id": "view-in-github",
        "colab_type": "text"
      },
      "source": [
        "<a href=\"https://colab.research.google.com/github/sharmadhruvds1-ux/citss-pythonclass/blob/main/revision_string_functions.ipynb\" target=\"_parent\"><img src=\"https://colab.research.google.com/assets/colab-badge.svg\" alt=\"Open In Colab\"/></a>"
      ]
    },
    {
      "cell_type": "code",
      "execution_count": null,
      "metadata": {
        "colab": {
          "base_uri": "https://localhost:8080/"
        },
        "id": "mJtdJza6O5s4",
        "outputId": "dec119c2-59a2-405a-9ea9-6cb602dc4403"
      },
      "outputs": [
        {
          "output_type": "stream",
          "name": "stdout",
          "text": [
            "m\n",
            "available\n",
            "not in the word\n",
            "k\n",
            "a\n",
            "m\n",
            "a\n",
            "l\n",
            "lamak\n"
          ]
        }
      ],
      "source": [
        "# string\n",
        "\n",
        "name = \"kamal\"\n",
        "print(name[2])\n",
        "\n",
        "if \"m\" in name:\n",
        "  print(\"available\")\n",
        "\n",
        "else :\n",
        "  print(\"not in the word\")\n",
        "\n",
        "if \"x\" in name:\n",
        "  print(\"available\")\n",
        "\n",
        "else :\n",
        "  print(\"not in the word\")\n",
        "\n",
        "for char in name :\n",
        "  print(char)\n",
        "\n",
        "print(name[::-1])"
      ]
    },
    {
      "cell_type": "code",
      "source": [
        "# Pallindrome\n",
        "\n",
        "text = \"mom\"\n",
        "rev = text[::-1]\n",
        "if text == rev:\n",
        "  print(\"pallindorme\")\n",
        "else:\n",
        "  print(\"not pallindrome\")"
      ],
      "metadata": {
        "colab": {
          "base_uri": "https://localhost:8080/"
        },
        "id": "kVVrf5tsXmwn",
        "outputId": "90f126a8-b87b-4ff6-bd16-4cbf1c404fe0"
      },
      "execution_count": null,
      "outputs": [
        {
          "output_type": "stream",
          "name": "stdout",
          "text": [
            "pallindorme\n"
          ]
        }
      ]
    },
    {
      "cell_type": "code",
      "source": [
        "# Pallindrome no.\n",
        "\n",
        "num = \"2345432\"\n",
        "rev = num[::-1]\n",
        "if num == rev :\n",
        "  print(\"pallindrome\")\n",
        "else :\n",
        "  print(\"not pallindrome\")\n",
        "\n",
        "c = int(num)/5\n",
        "print(c)"
      ],
      "metadata": {
        "colab": {
          "base_uri": "https://localhost:8080/"
        },
        "id": "32WFcFuMZnE8",
        "outputId": "be2e12b2-4e91-4ba6-d2e8-23658248360f"
      },
      "execution_count": null,
      "outputs": [
        {
          "output_type": "stream",
          "name": "stdout",
          "text": [
            "pallindrome\n",
            "469086.4\n"
          ]
        }
      ]
    },
    {
      "cell_type": "code",
      "source": [
        "# check reverse of the no.\n",
        "\n",
        "num = 5678\n",
        "num2 = str(num)\n",
        "print(num2[::-1])\n"
      ],
      "metadata": {
        "colab": {
          "base_uri": "https://localhost:8080/"
        },
        "id": "3q_ItYahdmG9",
        "outputId": "7dcc226e-6c17-4c3b-a480-f0b4bfe86d11"
      },
      "execution_count": null,
      "outputs": [
        {
          "output_type": "stream",
          "name": "stdout",
          "text": [
            "8765\n"
          ]
        }
      ]
    },
    {
      "cell_type": "code",
      "source": [
        "# reverse a no.\n",
        "\n",
        "num = 5678\n",
        "rev = 0\n",
        "\n",
        "while num>0 :\n",
        "  digit = num % 10\n",
        "  rev = rev*10 + digit\n",
        "  num = num // 10\n",
        "print(rev)\n"
      ],
      "metadata": {
        "colab": {
          "base_uri": "https://localhost:8080/"
        },
        "id": "eeeXeGNKiIQW",
        "outputId": "d2c58e49-ef1d-4f27-bdb3-3698d39f71d0"
      },
      "execution_count": null,
      "outputs": [
        {
          "output_type": "stream",
          "name": "stdout",
          "text": [
            "8765\n"
          ]
        }
      ]
    },
    {
      "cell_type": "code",
      "source": [
        "# Reverse a stirng without using inbuilt funciton\n",
        "\n",
        "name = \"sunita\"\n",
        "rev = \"\"\n",
        "\n",
        "for char in name :\n",
        "  rev = char + rev\n",
        "print(rev)"
      ],
      "metadata": {
        "colab": {
          "base_uri": "https://localhost:8080/"
        },
        "id": "RvKYuIE3UCj3",
        "outputId": "3c5a91c7-cfe2-4800-bad8-58aaf139e123"
      },
      "execution_count": null,
      "outputs": [
        {
          "output_type": "stream",
          "name": "stdout",
          "text": [
            "atinus\n"
          ]
        }
      ]
    },
    {
      "cell_type": "code",
      "source": [
        "# funcitons info\n",
        "\n",
        "def info():\n",
        "  print(\"hi\")\n",
        "\n",
        "info()"
      ],
      "metadata": {
        "colab": {
          "base_uri": "https://localhost:8080/"
        },
        "id": "MSJFTaNfY_JZ",
        "outputId": "3d197b6a-6129-4446-a885-a7aadbcbc98e"
      },
      "execution_count": null,
      "outputs": [
        {
          "output_type": "stream",
          "name": "stdout",
          "text": [
            "hi\n"
          ]
        }
      ]
    },
    {
      "cell_type": "code",
      "source": [
        "# functions to add a program\n",
        "\n",
        "def add(a,b):\n",
        "  print(a+b)\n",
        "\n",
        "x=add(50,30)\n",
        "y=add(4,5)\n",
        "z=add(7,8)\n",
        "\n",
        "def avg(x,y,z):\n",
        "  average = (x+y+z)/3\n",
        "  print(average)\n",
        "\n",
        "avg(x,y,z)"
      ],
      "metadata": {
        "colab": {
          "base_uri": "https://localhost:8080/",
          "height": 401
        },
        "id": "BFiaTQksZOWm",
        "outputId": "a068d69c-03d0-478f-df67-6e32c88b18f4"
      },
      "execution_count": null,
      "outputs": [
        {
          "output_type": "stream",
          "name": "stdout",
          "text": [
            "80\n",
            "9\n",
            "15\n",
            "None\n",
            "None\n",
            "None\n"
          ]
        },
        {
          "output_type": "error",
          "ename": "TypeError",
          "evalue": "unsupported operand type(s) for +: 'NoneType' and 'NoneType'",
          "traceback": [
            "\u001b[0;31m---------------------------------------------------------------------------\u001b[0m",
            "\u001b[0;31mTypeError\u001b[0m                                 Traceback (most recent call last)",
            "\u001b[0;32m/tmp/ipython-input-1445981311.py\u001b[0m in \u001b[0;36m<cell line: 0>\u001b[0;34m()\u001b[0m\n\u001b[1;32m     16\u001b[0m   \u001b[0mprint\u001b[0m\u001b[0;34m(\u001b[0m\u001b[0maverage\u001b[0m\u001b[0;34m)\u001b[0m\u001b[0;34m\u001b[0m\u001b[0;34m\u001b[0m\u001b[0m\n\u001b[1;32m     17\u001b[0m \u001b[0;34m\u001b[0m\u001b[0m\n\u001b[0;32m---> 18\u001b[0;31m \u001b[0mavg\u001b[0m\u001b[0;34m(\u001b[0m\u001b[0mx\u001b[0m\u001b[0;34m,\u001b[0m\u001b[0my\u001b[0m\u001b[0;34m,\u001b[0m\u001b[0mz\u001b[0m\u001b[0;34m)\u001b[0m\u001b[0;34m\u001b[0m\u001b[0;34m\u001b[0m\u001b[0m\n\u001b[0m",
            "\u001b[0;32m/tmp/ipython-input-1445981311.py\u001b[0m in \u001b[0;36mavg\u001b[0;34m(x, y, z)\u001b[0m\n\u001b[1;32m     13\u001b[0m \u001b[0;34m\u001b[0m\u001b[0m\n\u001b[1;32m     14\u001b[0m \u001b[0;32mdef\u001b[0m \u001b[0mavg\u001b[0m\u001b[0;34m(\u001b[0m\u001b[0mx\u001b[0m\u001b[0;34m,\u001b[0m\u001b[0my\u001b[0m\u001b[0;34m,\u001b[0m\u001b[0mz\u001b[0m\u001b[0;34m)\u001b[0m\u001b[0;34m:\u001b[0m\u001b[0;34m\u001b[0m\u001b[0;34m\u001b[0m\u001b[0m\n\u001b[0;32m---> 15\u001b[0;31m   \u001b[0maverage\u001b[0m \u001b[0;34m=\u001b[0m \u001b[0;34m(\u001b[0m\u001b[0mx\u001b[0m\u001b[0;34m+\u001b[0m\u001b[0my\u001b[0m\u001b[0;34m+\u001b[0m\u001b[0mz\u001b[0m\u001b[0;34m)\u001b[0m\u001b[0;34m/\u001b[0m\u001b[0;36m3\u001b[0m\u001b[0;34m\u001b[0m\u001b[0;34m\u001b[0m\u001b[0m\n\u001b[0m\u001b[1;32m     16\u001b[0m   \u001b[0mprint\u001b[0m\u001b[0;34m(\u001b[0m\u001b[0maverage\u001b[0m\u001b[0;34m)\u001b[0m\u001b[0;34m\u001b[0m\u001b[0;34m\u001b[0m\u001b[0m\n\u001b[1;32m     17\u001b[0m \u001b[0;34m\u001b[0m\u001b[0m\n",
            "\u001b[0;31mTypeError\u001b[0m: unsupported operand type(s) for +: 'NoneType' and 'NoneType'"
          ]
        }
      ]
    },
    {
      "cell_type": "code",
      "source": [
        "x = 10\n",
        "y = 35\n",
        "z = 37\n",
        "def avg(x,y,z):\n",
        "  average = (x+y+z)/3\n",
        "  print(average)\n",
        "\n",
        "avg(x,y,z)"
      ],
      "metadata": {
        "colab": {
          "base_uri": "https://localhost:8080/"
        },
        "id": "HE4Z1FvecQfT",
        "outputId": "d8d5a41b-81cd-4cd4-9229-774f34c917cc"
      },
      "execution_count": null,
      "outputs": [
        {
          "output_type": "stream",
          "name": "stdout",
          "text": [
            "27.333333333333332\n"
          ]
        }
      ]
    },
    {
      "cell_type": "code",
      "source": [
        "\n",
        "def add(a,b):\n",
        "  return(a+b)\n",
        "\n",
        "x=add(50,30)\n",
        "y=add(4,5)\n",
        "z=add(7,8)\n",
        "\n",
        "def avg(x,y,z):\n",
        "  average = (x+y+z)/3\n",
        "  return(average)\n",
        "\n",
        "avg(x,y,z)\n"
      ],
      "metadata": {
        "colab": {
          "base_uri": "https://localhost:8080/"
        },
        "id": "r6dwpNKTdWwj",
        "outputId": "820019f8-948b-4bd2-d4cc-f44f1e5dda44"
      },
      "execution_count": null,
      "outputs": [
        {
          "output_type": "execute_result",
          "data": {
            "text/plain": [
              "34.666666666666664"
            ]
          },
          "metadata": {},
          "execution_count": 1
        }
      ]
    },
    {
      "cell_type": "code",
      "source": [
        "# Factorial of a number\n",
        "\n",
        "def fact() :\n",
        " a = int(input(\"Enter a number: \"))\n",
        " fact = 1\n",
        "\n",
        " for i in range (1,a+1) :\n",
        "   fact = fact * i\n",
        " print(fact)\n",
        "\n",
        "fact()"
      ],
      "metadata": {
        "colab": {
          "base_uri": "https://localhost:8080/"
        },
        "id": "QpPwbziibGze",
        "outputId": "8afc221d-f612-4b62-87d9-7bbcffa66190"
      },
      "execution_count": null,
      "outputs": [
        {
          "output_type": "stream",
          "name": "stdout",
          "text": [
            "Enter a number: 12\n",
            "479001600\n"
          ]
        }
      ]
    },
    {
      "cell_type": "code",
      "source": [
        "# sum of factorial from 1 to 5\n",
        "def fun(n) :\n",
        " sum = 0\n",
        " fact = 1\n",
        " for i in range (1,n+1) :\n",
        "  fact = fact * i\n",
        "  sum = sum + fact\n",
        " print(sum)\n",
        "\n",
        "fun(5)"
      ],
      "metadata": {
        "colab": {
          "base_uri": "https://localhost:8080/"
        },
        "id": "D8r3d2C-fPEe",
        "outputId": "0c7b0cc1-67b2-43fa-d982-2301216145a2"
      },
      "execution_count": null,
      "outputs": [
        {
          "output_type": "stream",
          "name": "stdout",
          "text": [
            "153\n"
          ]
        }
      ]
    },
    {
      "cell_type": "code",
      "source": [
        "# 1! + 3! + 5! + 7!\n",
        "\n",
        "def fun() :\n",
        " sum = 0\n",
        " for i in range (1,8,2):\n",
        "  fact = 1\n",
        "  for j in range (1,i+1):\n",
        "   fact = fact*j\n",
        "  sum = sum + fact\n",
        " print(sum)\n",
        "\n",
        "fun()"
      ],
      "metadata": {
        "colab": {
          "base_uri": "https://localhost:8080/"
        },
        "id": "s9--bd1NjbOg",
        "outputId": "245dc88d-1072-424c-8d60-7e7087859bcd"
      },
      "execution_count": null,
      "outputs": [
        {
          "output_type": "stream",
          "name": "stdout",
          "text": [
            "5167\n"
          ]
        }
      ]
    },
    {
      "cell_type": "code",
      "source": [
        "sum = 0\n",
        "fact = 1\n",
        "for i in range (1,8,2):\n",
        "  fact = fact*i\n",
        "  sum = sum + fact\n",
        "  print(sum)"
      ],
      "metadata": {
        "colab": {
          "base_uri": "https://localhost:8080/"
        },
        "id": "3sud2qBOqfH-",
        "outputId": "170be9ac-aba2-4b6c-d64f-3b2aef040404"
      },
      "execution_count": null,
      "outputs": [
        {
          "output_type": "stream",
          "name": "stdout",
          "text": [
            "1\n",
            "4\n",
            "19\n",
            "124\n"
          ]
        }
      ]
    },
    {
      "cell_type": "code",
      "source": [
        "# 2! + 4! + 6!\n",
        "\n",
        "def fun():\n",
        " sum = 0\n",
        " for i in range (2,7,2) :\n",
        "  fact = 1\n",
        "  for j in range (1,i+1) :\n",
        "   fact = fact * j\n",
        "  sum = sum + fact\n",
        " print(sum)\n",
        "\n",
        "fun()"
      ],
      "metadata": {
        "colab": {
          "base_uri": "https://localhost:8080/"
        },
        "id": "3QKDx5YoVcO7",
        "outputId": "f02bc71e-f9b5-49bb-b02e-8f420a11aeca"
      },
      "execution_count": null,
      "outputs": [
        {
          "output_type": "stream",
          "name": "stdout",
          "text": [
            "746\n"
          ]
        }
      ]
    },
    {
      "cell_type": "code",
      "source": [
        "# 2! + 4! + 6!\n",
        "\n",
        "def fun(n) :\n",
        " sum = 0\n",
        " fact = 1\n",
        " for i in range (1,n+1) :\n",
        "  fact = fact * i\n",
        "  if i % 2 == 0:\n",
        "   sum = sum + fact\n",
        " print(sum)\n",
        "\n",
        "fun(6)\n",
        "fun(10)\n",
        "fun(14)"
      ],
      "metadata": {
        "colab": {
          "base_uri": "https://localhost:8080/"
        },
        "id": "4aybEYadZWYF",
        "outputId": "7a6df422-a060-4eb5-f415-c688aef7819f"
      },
      "execution_count": null,
      "outputs": [
        {
          "output_type": "stream",
          "name": "stdout",
          "text": [
            "746\n",
            "3669866\n",
            "87660962666\n"
          ]
        }
      ]
    },
    {
      "cell_type": "code",
      "source": [
        "# 2! + 6! + 10!\n",
        "\n",
        "def fun() :\n",
        " sum = 0\n",
        " for i in range(2,11,4):\n",
        "   fact = 1\n",
        "   for j in range(1,i+1) :\n",
        "     fact = fact * j\n",
        "   sum = sum + fact\n",
        " print(sum)\n",
        "\n",
        "fun()"
      ],
      "metadata": {
        "colab": {
          "base_uri": "https://localhost:8080/"
        },
        "id": "X7Gff7Kpby3h",
        "outputId": "748e635a-5070-4333-af74-77cb274efc51"
      },
      "execution_count": null,
      "outputs": [
        {
          "output_type": "stream",
          "name": "stdout",
          "text": [
            "3629522\n"
          ]
        }
      ]
    },
    {
      "cell_type": "code",
      "source": [
        "# 2! + 6! + 10!\n",
        "\n",
        "def fun(n) :\n",
        "  sum = 0\n",
        "  fact = 1\n",
        "  for i in range (1,n+1) :\n",
        "   fact = fact * i\n",
        "\n",
        "   if i % 4 == 2 :\n",
        "    sum = sum + fact\n",
        "\n",
        "  print(sum)\n",
        "\n",
        "fun(10)\n",
        "fun(20)\n",
        "fun(30)"
      ],
      "metadata": {
        "colab": {
          "base_uri": "https://localhost:8080/"
        },
        "id": "PIYnfJF6dv88",
        "outputId": "2bc27fc2-3119-4854-a381-b8129c983ccd"
      },
      "execution_count": null,
      "outputs": [
        {
          "output_type": "stream",
          "name": "stdout",
          "text": [
            "3629522\n",
            "6402460887648722\n",
            "265253263104776192372182559328722\n"
          ]
        }
      ]
    },
    {
      "cell_type": "code",
      "source": [
        "# 3! + 7! + 11!\n",
        "\n",
        "def fun(n) :\n",
        " sum = 0\n",
        " fact = 1\n",
        " for i in range(1,n+1):\n",
        "  fact = fact * i\n",
        "\n",
        " if i%4 == 3 :\n",
        "  sum = sum + fact\n",
        "\n",
        " print(sum)\n",
        "\n",
        "fun(11)\n",
        "fun(7)"
      ],
      "metadata": {
        "id": "xthU23EC0uFD",
        "colab": {
          "base_uri": "https://localhost:8080/"
        },
        "outputId": "f2a03d9c-c626-48fd-dc1a-78b9fa2076b2"
      },
      "execution_count": null,
      "outputs": [
        {
          "output_type": "stream",
          "name": "stdout",
          "text": [
            "39916800\n",
            "5040\n"
          ]
        }
      ]
    },
    {
      "cell_type": "code",
      "source": [
        "# 5! + 11! + 17!\n",
        "\n",
        "def fun(n) :\n",
        " sum = 0\n",
        " fact = 1\n",
        " for i in range(1,n+1):\n",
        "  fact = fact * i\n",
        "\n",
        " if i%6 == 5 :\n",
        "  sum = sum + fact\n",
        "\n",
        " print(sum)\n",
        "\n",
        "fun(11)\n",
        "fun(17)"
      ],
      "metadata": {
        "colab": {
          "base_uri": "https://localhost:8080/"
        },
        "id": "d64HQkDD1BTr",
        "outputId": "8992ca9a-c321-4a2b-e7de-7ef70a320d56"
      },
      "execution_count": null,
      "outputs": [
        {
          "output_type": "stream",
          "name": "stdout",
          "text": [
            "39916800\n",
            "355687428096000\n"
          ]
        }
      ]
    },
    {
      "cell_type": "code",
      "source": [
        "# 4! + 7! + 10!\n",
        "\n",
        "def fun(n) :\n",
        " sum = 0\n",
        " fact = 1\n",
        " for i in range(1,n+1):\n",
        "  fact = fact * i\n",
        "\n",
        " if i%3 == 1 :\n",
        "  sum = sum + fact\n",
        "\n",
        " print(sum)\n",
        "\n",
        "fun(7)\n",
        "fun(10)"
      ],
      "metadata": {
        "colab": {
          "base_uri": "https://localhost:8080/"
        },
        "id": "gtvJ12-V1_ba",
        "outputId": "061e89a7-3aac-43f6-f2e0-6a899cedb758"
      },
      "execution_count": null,
      "outputs": [
        {
          "output_type": "stream",
          "name": "stdout",
          "text": [
            "5040\n",
            "3628800\n"
          ]
        }
      ]
    },
    {
      "cell_type": "code",
      "source": [
        "def add(*args) :\n",
        "  return sum(args)\n",
        "\n",
        "add(10,20,30)\n",
        "add(10,20)"
      ],
      "metadata": {
        "colab": {
          "base_uri": "https://localhost:8080/"
        },
        "id": "htDfFlNteTFx",
        "outputId": "52afb6d5-ee30-4de9-c145-74b294475100"
      },
      "execution_count": null,
      "outputs": [
        {
          "output_type": "execute_result",
          "data": {
            "text/plain": [
              "30"
            ]
          },
          "metadata": {},
          "execution_count": 4
        }
      ]
    },
    {
      "cell_type": "code",
      "source": [
        "def add(*args):\n",
        " total_sum = 0\n",
        " for i in args:\n",
        "  total_sum = total_sum + i\n",
        " return total_sum\n",
        "\n",
        "add(10,20,30)\n"
      ],
      "metadata": {
        "colab": {
          "base_uri": "https://localhost:8080/"
        },
        "id": "XTlF-PqghrWh",
        "outputId": "f6c7812e-a05a-4a29-b46f-d8eba4bb39fc"
      },
      "execution_count": null,
      "outputs": [
        {
          "output_type": "execute_result",
          "data": {
            "text/plain": [
              "60"
            ]
          },
          "metadata": {},
          "execution_count": 9
        }
      ]
    },
    {
      "cell_type": "code",
      "source": [
        "def data(**c):\n",
        "  for key,value in c.items():\n",
        "    print(key,\"is\",value)\n",
        "\n",
        "data(Name = \"Dhruv\",Age = 24)"
      ],
      "metadata": {
        "colab": {
          "base_uri": "https://localhost:8080/"
        },
        "id": "STcJP7amnVv3",
        "outputId": "100d2355-7558-4e60-824d-36d82d3cde25"
      },
      "execution_count": null,
      "outputs": [
        {
          "output_type": "stream",
          "name": "stdout",
          "text": [
            "Name is Dhruv\n",
            "Age is 24\n"
          ]
        }
      ]
    }
  ]
}