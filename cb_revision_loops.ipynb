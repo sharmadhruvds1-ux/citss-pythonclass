{
  "nbformat": 4,
  "nbformat_minor": 0,
  "metadata": {
    "colab": {
      "provenance": [],
      "authorship_tag": "ABX9TyOjFZ2aGkapbzz2lM/xbAy0",
      "include_colab_link": true
    },
    "kernelspec": {
      "name": "python3",
      "display_name": "Python 3"
    },
    "language_info": {
      "name": "python"
    }
  },
  "cells": [
    {
      "cell_type": "markdown",
      "metadata": {
        "id": "view-in-github",
        "colab_type": "text"
      },
      "source": [
        "<a href=\"https://colab.research.google.com/github/sharmadhruvds1-ux/citss-pythonclass/blob/main/cb_revision_loops.ipynb\" target=\"_parent\"><img src=\"https://colab.research.google.com/assets/colab-badge.svg\" alt=\"Open In Colab\"/></a>"
      ]
    },
    {
      "cell_type": "code",
      "execution_count": null,
      "metadata": {
        "colab": {
          "base_uri": "https://localhost:8080/"
        },
        "id": "n8GE6vMeJZd4",
        "outputId": "3ba8fbfd-5264-4634-d555-48e780b9ddc2"
      },
      "outputs": [
        {
          "output_type": "stream",
          "name": "stdout",
          "text": [
            "0\n",
            "1\n",
            "2\n",
            "3\n",
            "4\n"
          ]
        }
      ],
      "source": [
        "for i in range(5):\n",
        "  print(i)"
      ]
    },
    {
      "cell_type": "code",
      "source": [
        "# Odd numbers\n",
        "for i in range(1,100,2):\n",
        "  print(i)"
      ],
      "metadata": {
        "id": "omInXXO_JnWz"
      },
      "execution_count": null,
      "outputs": []
    },
    {
      "cell_type": "code",
      "source": [
        "# sum of 100\n",
        "sum = 0\n",
        "for i in range(1,101):\n",
        "  sum = sum + i\n",
        "print(sum)"
      ],
      "metadata": {
        "colab": {
          "base_uri": "https://localhost:8080/"
        },
        "id": "U0q38VSSJqp6",
        "outputId": "58c707c5-4466-4b49-9bd7-24ca5c2a7c31"
      },
      "execution_count": null,
      "outputs": [
        {
          "output_type": "stream",
          "name": "stdout",
          "text": [
            "5050\n"
          ]
        }
      ]
    },
    {
      "cell_type": "code",
      "source": [
        "# multiplicaiton\n",
        "mul = 1\n",
        "for i in range(1,11):\n",
        "  mul = mul*i\n",
        "print(mul)"
      ],
      "metadata": {
        "colab": {
          "base_uri": "https://localhost:8080/"
        },
        "id": "4IUVlFryfPSp",
        "outputId": "068fe9dd-b3b1-46cb-ab71-9b0476a40f28"
      },
      "execution_count": null,
      "outputs": [
        {
          "output_type": "stream",
          "name": "stdout",
          "text": [
            "3628800\n"
          ]
        }
      ]
    },
    {
      "cell_type": "code",
      "source": [
        "# Square from 1 to 10\n",
        "sum = 0\n",
        "for i in range(1,11) :\n",
        "  sum = sum + i*i\n",
        "print(sum)"
      ],
      "metadata": {
        "colab": {
          "base_uri": "https://localhost:8080/"
        },
        "id": "uLv6jZtuoqQE",
        "outputId": "010d4713-4936-467d-e67e-1101b6f66480"
      },
      "execution_count": null,
      "outputs": [
        {
          "output_type": "stream",
          "name": "stdout",
          "text": [
            "385\n"
          ]
        }
      ]
    },
    {
      "cell_type": "code",
      "source": [
        "# Cube from 1 to 10\n",
        "\n",
        "sum = 0\n",
        "for i in range (1,11):\n",
        "  sum = sum + i**3\n",
        "print(sum)"
      ],
      "metadata": {
        "colab": {
          "base_uri": "https://localhost:8080/"
        },
        "id": "z5uUWrqorIFy",
        "outputId": "7333a9f5-872b-43b3-9056-2da56c8cc0ad"
      },
      "execution_count": null,
      "outputs": [
        {
          "output_type": "stream",
          "name": "stdout",
          "text": [
            "3025\n"
          ]
        }
      ]
    },
    {
      "cell_type": "code",
      "source": [
        "# Multiplication from 1 to 6\n",
        "mul = 1\n",
        "for i in range (1,6):\n",
        " mul = mul*i\n",
        "print(mul)"
      ],
      "metadata": {
        "colab": {
          "base_uri": "https://localhost:8080/"
        },
        "id": "ntymJBvQrlUd",
        "outputId": "09223768-73e9-477c-a7cc-a546174265be"
      },
      "execution_count": null,
      "outputs": [
        {
          "output_type": "stream",
          "name": "stdout",
          "text": [
            "120\n"
          ]
        }
      ]
    },
    {
      "cell_type": "code",
      "source": [
        "# Sum of Factorial from 1 to 5\n",
        "\n",
        "fact = 1\n",
        "sum = 0\n",
        "for i in range (1,6):\n",
        "  fact = fact*i\n",
        "  sum = sum + fact\n",
        "print(sum)\n"
      ],
      "metadata": {
        "colab": {
          "base_uri": "https://localhost:8080/"
        },
        "id": "DmYluADgukI8",
        "outputId": "4418adff-1ddd-43f2-9d4b-04f1ac73024f"
      },
      "execution_count": null,
      "outputs": [
        {
          "output_type": "stream",
          "name": "stdout",
          "text": [
            "153\n"
          ]
        }
      ]
    },
    {
      "cell_type": "code",
      "source": [
        "# factorial of a input no.\n",
        "\n",
        "fact =1\n",
        "num = int(input(\"Enter the number :\"))\n",
        "for i in range (1, num+1):\n",
        " fact = fact*i\n",
        "print(fact)"
      ],
      "metadata": {
        "colab": {
          "base_uri": "https://localhost:8080/"
        },
        "id": "RD3HsRkzr_3I",
        "outputId": "f023cb3b-8f67-4d55-ec89-a0747da93a08"
      },
      "execution_count": null,
      "outputs": [
        {
          "output_type": "stream",
          "name": "stdout",
          "text": [
            "Enter the number :5\n",
            "120\n"
          ]
        }
      ]
    },
    {
      "cell_type": "code",
      "source": [
        "# Fibonacci series\n",
        "\n",
        "first_term = 0\n",
        "second_term = 1\n",
        "\n",
        "num = int(input(\"Enter the number :\"))       #Enter the term to which you want to print the series\n",
        "\n",
        "print(first_term)\n",
        "print(second_term)\n",
        "\n",
        "for i in range (0,num-2):\n",
        " third_term = first_term + second_term\n",
        " first_term = second_term\n",
        " second_term = third_term\n",
        "\n",
        " print(third_term)"
      ],
      "metadata": {
        "colab": {
          "base_uri": "https://localhost:8080/"
        },
        "id": "-KiR1rBFuKIl",
        "outputId": "31806db2-5947-4b3d-94f7-12a71e82657d"
      },
      "execution_count": null,
      "outputs": [
        {
          "output_type": "stream",
          "name": "stdout",
          "text": [
            "Enter the number :12\n",
            "0\n",
            "1\n",
            "1\n",
            "2\n",
            "3\n",
            "5\n",
            "8\n",
            "13\n",
            "21\n",
            "34\n",
            "55\n",
            "89\n"
          ]
        }
      ]
    },
    {
      "cell_type": "code",
      "source": [
        "# cube of numbers\n",
        "\n",
        "sum = 0\n",
        "\n",
        "for i in range(1,10):\n",
        "  sum = sum + i**3\n",
        "print(sum)"
      ],
      "metadata": {
        "id": "WV5IBQo5vmXu",
        "colab": {
          "base_uri": "https://localhost:8080/"
        },
        "outputId": "ead5c0d2-586d-49b7-9c3d-1e979e6d5ab4"
      },
      "execution_count": null,
      "outputs": [
        {
          "output_type": "stream",
          "name": "stdout",
          "text": [
            "2025\n"
          ]
        }
      ]
    },
    {
      "cell_type": "code",
      "source": [
        "# sum of factorial of odd numbers\n",
        "\n",
        "sum = 0\n",
        "\n",
        "for i in range (1,7,2):\n",
        "  fact = 1\n",
        "  for j in range (1,i+1):\n",
        "   fact = fact*j\n",
        "  sum = sum + fact\n",
        "print(sum)\n"
      ],
      "metadata": {
        "colab": {
          "base_uri": "https://localhost:8080/"
        },
        "id": "Giwn5G6gbkjL",
        "outputId": "aa256a18-3861-4d37-e9c0-31fa6c8a0bca"
      },
      "execution_count": null,
      "outputs": [
        {
          "output_type": "stream",
          "name": "stdout",
          "text": [
            "127\n"
          ]
        }
      ]
    },
    {
      "cell_type": "code",
      "source": [
        "# sum of factorial of numbers from 1 to 5\n",
        "\n",
        "fact = 1\n",
        "sum = 0\n",
        "\n",
        "for i in range (1,6):\n",
        "  fact = fact*i\n",
        "  sum = sum + fact\n",
        "print(sum)"
      ],
      "metadata": {
        "colab": {
          "base_uri": "https://localhost:8080/"
        },
        "id": "c21qfFeVpFdT",
        "outputId": "3cb96f2a-1003-4def-db2e-7ca772518ee2"
      },
      "execution_count": null,
      "outputs": [
        {
          "output_type": "stream",
          "name": "stdout",
          "text": [
            "153\n"
          ]
        }
      ]
    },
    {
      "cell_type": "code",
      "source": [
        "\n",
        "sum =0\n",
        "\n",
        "for i in range(1,11,2):\n",
        "  fact = 1\n",
        "  for j in range(1,i+1):\n",
        "    fact = fact*j\n",
        "  sum = sum + fact\n",
        "print(sum)\n"
      ],
      "metadata": {
        "colab": {
          "base_uri": "https://localhost:8080/"
        },
        "id": "gBP0Xj0unEmh",
        "outputId": "22e714ac-ef3a-4cdc-b8f6-41a68235e775"
      },
      "execution_count": null,
      "outputs": [
        {
          "output_type": "stream",
          "name": "stdout",
          "text": [
            "368047\n"
          ]
        }
      ]
    },
    {
      "cell_type": "code",
      "source": [
        "# Sum of factorial of odd numbers with one loop\n",
        "fact = 1\n",
        "sum = 0\n",
        "\n",
        "for i in range (1,11):\n",
        "  fact = fact * i\n",
        "  if i%2 != 0:\n",
        "   sum = sum + fact\n",
        "print(sum)\n"
      ],
      "metadata": {
        "colab": {
          "base_uri": "https://localhost:8080/"
        },
        "id": "thuNLqiPvF30",
        "outputId": "31abe83f-8735-4b40-a83c-447e4ee8cf15"
      },
      "execution_count": null,
      "outputs": [
        {
          "output_type": "stream",
          "name": "stdout",
          "text": [
            "368047\n"
          ]
        }
      ]
    },
    {
      "cell_type": "code",
      "source": [
        "# Sum of 2! + 6! + 10! + 14! + 18!\n",
        "\n",
        "sum = 0\n",
        "\n",
        "for i in range (2,19,4):\n",
        " fact = 1\n",
        "  for j in range (1,i+1):\n",
        "   fact = fact * j\n",
        "sum = sum + fact\n",
        "\n",
        "print(sum)"
      ],
      "metadata": {
        "colab": {
          "base_uri": "https://localhost:8080/"
        },
        "id": "CTdm_EYEsZnv",
        "outputId": "5f1e182e-1ba7-41e6-be93-b9b207bcc0fe"
      },
      "execution_count": 1,
      "outputs": [
        {
          "output_type": "stream",
          "name": "stdout",
          "text": [
            "6402460887648722\n"
          ]
        }
      ]
    },
    {
      "cell_type": "code",
      "source": [
        "# Sum of 2! + 4! + 6! + 8!\n",
        "\n",
        "\n",
        "sum = 0\n",
        "\n",
        "for i in range (2,9,2):\n",
        "  fact = 1\n",
        "  for j in range (1,i+1):\n",
        "   fact = fact * j\n",
        "sum = sum + fact\n",
        "\n",
        "print(sum)\n",
        ""
      ],
      "metadata": {
        "colab": {
          "base_uri": "https://localhost:8080/"
        },
        "id": "C56SrLQxthma",
        "outputId": "3490391d-4664-493d-9690-3319ceade6df"
      },
      "execution_count": 3,
      "outputs": [
        {
          "output_type": "stream",
          "name": "stdout",
          "text": [
            "40320\n"
          ]
        }
      ]
    }
  ]
}