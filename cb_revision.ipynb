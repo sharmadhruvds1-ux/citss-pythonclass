{
  "nbformat": 4,
  "nbformat_minor": 0,
  "metadata": {
    "colab": {
      "provenance": [],
      "authorship_tag": "ABX9TyN8nOPcUNIREKRRjvnVusNJ",
      "include_colab_link": true
    },
    "kernelspec": {
      "name": "python3",
      "display_name": "Python 3"
    },
    "language_info": {
      "name": "python"
    }
  },
  "cells": [
    {
      "cell_type": "markdown",
      "metadata": {
        "id": "view-in-github",
        "colab_type": "text"
      },
      "source": [
        "<a href=\"https://colab.research.google.com/github/sharmadhruvds1-ux/citss-pythonclass/blob/main/cb_revision.ipynb\" target=\"_parent\"><img src=\"https://colab.research.google.com/assets/colab-badge.svg\" alt=\"Open In Colab\"/></a>"
      ]
    },
    {
      "cell_type": "code",
      "execution_count": null,
      "metadata": {
        "id": "5dVqt-rJQnPt"
      },
      "outputs": [],
      "source": [
        "# Code for allocation of block and building\n",
        "age =int(input(\"Enter the age : \"))\n",
        "gender =input(\"Enter the gender : \")\n",
        "\n",
        "if gender == \"male\":\n",
        " print(\"Block A\")\n",
        " if age<=30 and age>0:\n",
        "   print(\"Building A\")\n",
        " elif age>30:\n",
        "   print(\"Building B\")\n",
        " else :\n",
        "  print(\"Please Enter the correct input\")\n",
        "\n",
        "elif gender == \"female\":\n",
        " print(\"Block B\")\n",
        " if age<=30 and age>0:\n",
        "  print(\"Buildindg A\")\n",
        " elif age>30:\n",
        "  print(\"Building B\")\n",
        " else :\n",
        "  print(\"Please Enter the correct input\")\n",
        "\n",
        "else :\n",
        "  print(\"Please Enter the correct input\")"
      ]
    },
    {
      "cell_type": "code",
      "source": [
        "# Student report card\n",
        "per = int(input(\"Enter the percentage : \"))\n",
        "\n",
        "if per>=90 and per<=100:\n",
        " print(\"Excellent\")\n",
        "\n",
        "elif per>=80 and per<=90:\n",
        " print(\"VERY GOOD\")\n",
        "\n",
        "elif per>=60 and per<=50:\n",
        " print(\"GOOD\")\n",
        "\n",
        "elif per<=50 and per>30:\n",
        " print(\"AVERAGE\")\n",
        "\n",
        "elif per<=30 and per>0:\n",
        " print(\"FAILED\")\n",
        "\n",
        "else :\n",
        "  print(\"INCORECT INPUT\")\n"
      ],
      "metadata": {
        "colab": {
          "base_uri": "https://localhost:8080/"
        },
        "id": "9ZS1kxEnRoL6",
        "outputId": "84f63417-fd79-4124-e7a3-c5fa18553708"
      },
      "execution_count": null,
      "outputs": [
        {
          "output_type": "stream",
          "name": "stdout",
          "text": [
            "Enter the percentage : 20\n",
            "FAILED\n"
          ]
        }
      ]
    },
    {
      "cell_type": "code",
      "source": [
        "# RESTAURENT BILLING SYSTEM\n",
        "\n",
        "food_item = input(\"Enter the food item (Burger/Pizza/Cold drink): \")\n",
        "quantity = int(input(\"Enter the quantity : \"))\n",
        "\n",
        "\n",
        "if food_item == \"Burger\" :\n",
        "  print(\"Amount :\",100*quantity)\n",
        "\n",
        "  if quantity >= 5 :\n",
        "   print(\"You got 30% discount\")\n",
        "   print(\"Total Amount :\",quantity*100-((quantity*100)*0.30))\n",
        "\n",
        "  elif quantity == 3 or quantity == 4 :\n",
        "   print(\"You got 10% discount\")\n",
        "   print(\"Total Amount :\",quantity*100-((quantity*100)*0.10))\n",
        "\n",
        "  elif quantity == 1 or quantity == 2:\n",
        "   print(\"Total Amount :\",quantity*100)\n",
        "\n",
        "  else :\n",
        "    print(\"Enter the correct quantity\")\n",
        "\n",
        "\n",
        "elif food_item == \"Pizza\" :\n",
        "  print(\"Amount : \",300*quantity)\n",
        "\n",
        "  if quantity >= 5 :\n",
        "   print(\"You got 30% discount\")\n",
        "   print(\"Total Amount :\",quantity*300-((quantity*300)*0.30))\n",
        "\n",
        "  elif quantity == 3 or quantity == 4 :\n",
        "   print(\"You got 10% discount\")\n",
        "   print(\"Total Amount :\",quantity*300-((quantity*300)*0.10))\n",
        "\n",
        "  elif quantity == 1 or quantity == 2 :\n",
        "   print(\"Total Amount :\",quantity*300)\n",
        "\n",
        "  else :\n",
        "    print(\"Enter the correct quantity\")\n",
        "\n",
        "\n",
        "elif food_item == \"Cold drink\" :\n",
        "  print(\"Amount : \",50*quantity)\n",
        "\n",
        "  if quantity >= 5 :\n",
        "   print(\"You got 30% discount\")\n",
        "   print(\"Total Amount :\", quantity*50-((quantity*50)*0.30))\n",
        "\n",
        "  elif quantity == 3 or quantity == 4 :\n",
        "   print(\"You got 10% discount\")\n",
        "   print(\"Total Amount :\", quantity*100-((quantity*50)*0.10))\n",
        "\n",
        "  elif quantity == 1 or quantity == 2 :\n",
        "   print(\"Total Amount :\",quantity*50)\n",
        "\n",
        "  else :\n",
        "    print(\"Enter the correct quantity\")\n",
        "\n",
        "\n",
        "else :\n",
        "  print(\"Food item is not in the menu\")"
      ],
      "metadata": {
        "colab": {
          "base_uri": "https://localhost:8080/"
        },
        "id": "11sclGDaSyM7",
        "outputId": "d08bb8d6-0904-4ffc-bf0e-adac137bdde6"
      },
      "execution_count": null,
      "outputs": [
        {
          "output_type": "stream",
          "name": "stdout",
          "text": [
            "Enter the food item (Burger/Pizza/Cold drink): Burger\n",
            "Enter the quantity : 1\n",
            "Amount : 100\n",
            "Total Amount : 100\n"
          ]
        }
      ]
    },
    {
      "cell_type": "code",
      "source": [
        "# Program to count simple interest\n",
        "\n",
        "amount = int(input(\"Enter the amount : \"))          # Amount to be entered\n",
        "interest = int(input(\"Enter the interest : \"))      # Enter the interest percentage\n",
        "month = int(input(\"Enter the month :\"))\n",
        "\n",
        "payable_amount = (amount + (amount*interest)/100)*month     # Payable Amount calculation\n",
        "\n",
        "print(\"The payable amount is :\",payable_amount)"
      ],
      "metadata": {
        "colab": {
          "base_uri": "https://localhost:8080/"
        },
        "id": "pMYQmnqdZPxS",
        "outputId": "cd420cee-1f1d-41c2-f3bc-339767cdc0dd"
      },
      "execution_count": null,
      "outputs": [
        {
          "output_type": "stream",
          "name": "stdout",
          "text": [
            "Enter the amount : 1000\n",
            "Enter the interest : 4\n",
            "Enter the month :1\n",
            "The payable amount is : 1040.0\n"
          ]
        }
      ]
    },
    {
      "cell_type": "code",
      "source": [
        "# Program for calculation of two numbers\n",
        "\n",
        "\n",
        "first_no = int(input(\"Enter the first number : \"))        # input of first number\n",
        "operation = input(\"Enter the operation : \")               # operation to be performed on inputs\n",
        "second_no = int(input(\"Enter the second number : \"))      # input of 2nd number\n",
        "\n",
        "\n",
        "if operation == \"+\" :                                     # Addition\n",
        "  print(\"RESULT : \",first_no+second_no)\n",
        "\n",
        "elif operation == \"-\" :\n",
        "  print(\"RESULT : \",first_no-second_no)                   # Substraction\n",
        "\n",
        "elif operation == \"*\" :\n",
        "  print(\"RESULT : \",first_no*second_no)                   # MUltiplication\n",
        "\n",
        "elif operation == \"/\" :\n",
        "  print(\"RESULT : \",first_no/second_no)                   # Division\n",
        "\n",
        "elif operation == \"%\"  :\n",
        "  print(\"RESULT : \",first_no%second_no)                   # Modulous\n",
        "\n",
        "else :\n",
        "  print(\"Enter the correct operation\")"
      ],
      "metadata": {
        "id": "DrL0KiJ7NBzo"
      },
      "execution_count": null,
      "outputs": []
    },
    {
      "cell_type": "code",
      "source": [
        "# Product buying system\n",
        "\n",
        "\n",
        "product = input(\"Enter the product (watch/phone/shoes): \")    # Choose a product\n",
        "\n",
        "if product == \"watch\":                                        # if product is watch\n",
        " prize = 20000\n",
        " print(\"Acutal prize : \",prize)\n",
        " print(\"YOU GOT 10% DISCOUNT\")\n",
        " prize = prize-(prize*0.10)\n",
        " print(\"Prize : \",prize)\n",
        "\n",
        " code = input(\"Enter the coupon code \")\n",
        " if code == \"NEW100\" :                                        # if the code is correct\n",
        "  print(\"You got more 10% discount\")\n",
        "  total_prize = prize-(prize*0.10)\n",
        "  print(\"Now your total prize : \",total_prize)\n",
        "\n",
        "\n",
        " else :                                                       # if the code is incorrect\n",
        "  print(\"incorect coupon code\")\n",
        "  print(\"Total prize \",prize)\n",
        "\n",
        "elif product == \"phone\":                                      # if the product is phone\n",
        " prize = 50000\n",
        " print(\"Acutal prize : \",prize)\n",
        " print(\"YOU GOT 20% DISCOUNT\")\n",
        " prize = prize-(prize*0.20)\n",
        " print(\"Prize : \",prize)\n",
        "\n",
        " code = input(\"Enter the coupon code \")                       # if the code is correct\n",
        " if code == \"NEW100\" :\n",
        "  print(\"You got more 10% discount\")\n",
        "  total_prize = prize-(prize*0.10)\n",
        "  print(\"Now your total prize : \",total_prize)\n",
        "\n",
        " else :                                                       # if the code is incorrect\n",
        "  print(\"incorect coupon code\")\n",
        "  print(\"Total prize \",prize)\n",
        "\n",
        "elif product == \"shoes\":                                      # if the product is shoes\n",
        " prize = 10000\n",
        " print(\"Acutal prize : \",prize)\n",
        " print(\"YOU GOT 50% DISCOUNT\")\n",
        " prize = prize-(prize*0.50)\n",
        " print(\"Prize : \",prize)\n",
        "\n",
        " code = input(\"Enter the coupon code \")\n",
        " if code == \"NEW100\" :                                        # if the code is correct\n",
        "  print(\"You got more 10% discount\")\n",
        "  total_prize = prize-(prize*0.10)\n",
        "  print(\"Now your total prize : \",total_prize)\n",
        "\n",
        " else :                                                       # if the code is incorrect\n",
        "  print(\"incorect coupon code\")\n",
        "  print(\"Total prize \",prize)\n",
        "\n",
        "else :\n",
        " print(\"Sorry, this product is out of stock\")"
      ],
      "metadata": {
        "colab": {
          "base_uri": "https://localhost:8080/"
        },
        "id": "jZkjcWalFCFy",
        "outputId": "aac1de40-7103-4abc-e028-6391937405a6"
      },
      "execution_count": null,
      "outputs": [
        {
          "output_type": "stream",
          "name": "stdout",
          "text": [
            "Enter the product (watch/phone/shoes): phone\n",
            "Acutal prize :  50000\n",
            "YOU GOT 20% DISCOUNT\n",
            "Prize :  40000.0\n",
            "Enter the coupon code NEW100\n",
            "You got more 10% discount\n",
            "Now your total prize :  36000.0\n"
          ]
        }
      ]
    },
    {
      "cell_type": "code",
      "source": [
        "# Program to calculate simple interest\n",
        "\n",
        "amount = int(input(\"Enter the amount : \"))              # amount to be entered\n",
        "interest = int(input(\"Enter the interest : \"))          # interest to be applied\n",
        "month = int(input(\"Enter the month : \"))                # no. of months\n",
        "days = int(input(\"Enter the days : \"))                  # no. of days\n",
        "\n",
        "Si_month = (amount*interest*month)/100                  # Si of month\n",
        "Si_days = (amount*interest*(days/30)/100)               # Si of days\n",
        "total_interest = amount + Si_month + Si_days            # total interest calculation\n",
        "\n",
        "print(\"The simple interest is :\",total_interest)        # display total interest"
      ],
      "metadata": {
        "id": "gb85GQTxIAEM",
        "colab": {
          "base_uri": "https://localhost:8080/"
        },
        "outputId": "14dba6b0-bdb0-4355-9480-84b65093c806"
      },
      "execution_count": null,
      "outputs": [
        {
          "output_type": "stream",
          "name": "stdout",
          "text": [
            "Enter the amount : 1000\n",
            "Enter the interest : 1\n",
            "Enter the month : 3\n",
            "Enter the days : 15\n",
            "The simple interest is : 1035.0\n"
          ]
        }
      ]
    },
    {
      "cell_type": "code",
      "source": [
        "# Program to caculate simple interest (different months)\n",
        "\n",
        "amount = int(input(\"ENter the amount : \"))                      # amount to be entered\n",
        "interest = int(input(\"Enter the interest :\"))                   # interest to be applied\n",
        "no_of_months = int(input(\"Enter the no of months : \"))          # no. of months\n",
        "days = int(input(\"Enter the days :\"))                           # no. of days\n",
        "month = input(\"Enter the month : \")                             # month\n",
        "\n",
        "Si_month = (amount*interest*no_of_months)/100\n",
        "\n",
        "\n",
        "if month == \"january\" or month == \"march\" or month == \"may\" or month == \"july\" or month == \"august\" or month == \"october\" or month == \"december\" :\n",
        " days1 = days/31\n",
        "\n",
        "elif month == \"february\" :\n",
        " days1 = days/28\n",
        "\n",
        "elif month == \"april\" or month == \"june\" or month == \"september\" or month == \"november\" :\n",
        " days1 = days/30\n",
        "\n",
        "else :\n",
        "  print(\"Enter the correct month\")\n",
        "\n",
        "\n",
        "Si_days = (amount*interest*days1)/100\n",
        "total_interest = amount + Si_month + Si_days\n",
        "\n",
        "print(\"The simple interest is :\",total_interest)"
      ],
      "metadata": {
        "colab": {
          "base_uri": "https://localhost:8080/"
        },
        "id": "MqykMDjZWnYt",
        "outputId": "575c7597-1ef2-414f-90f3-7859c1403986"
      },
      "execution_count": null,
      "outputs": [
        {
          "output_type": "stream",
          "name": "stdout",
          "text": [
            "ENter the amount : 1000\n",
            "Enter the interest :5\n",
            "Enter the no of months : 2\n",
            "Enter the days :15\n",
            "Enter the month : january\n",
            "The simple interest is : 1124.1935483870968\n"
          ]
        }
      ]
    },
    {
      "cell_type": "code",
      "source": [
        "\n",
        "# Program to caculate simple interest (different months)\n",
        "\n",
        "amount = int(input(\"ENter the amount : \"))                      # amount to be entered\n",
        "interest = int(input(\"Enter the interest :\"))                   # interest to be applied\n",
        "no_of_months = int(input(\"Enter the no of months : \"))          # no. of months\n",
        "days = int(input(\"Enter the days :\"))                           # no. of days\n",
        "month = input(\"Enter the month : \")                             # month\n",
        "year = int(input(\"Enter the year : \"))\n",
        "\n",
        "\n",
        "Si_month = (amount*interest*no_of_months)/100\n",
        "\n",
        "\n",
        "if month == \"january\" or month == \"march\" or month == \"may\" or month == \"july\" or month == \"august\" or month == \"october\" or month == \"december\" :\n",
        " days1 = days/31\n",
        "\n",
        "elif month == \"february\" :\n",
        "  if year%4 ==0 and year%100 != 0 or year%400 == 0 :             # is leap year\n",
        "   days1 = days/29\n",
        "  else :                                                         # is not leap year\n",
        "   days1 = days/28\n",
        "\n",
        "elif month == \"april\" or month == \"june\" or month == \"september\" or month == \"november\" :\n",
        " days1 = days/30\n",
        "\n",
        "else :\n",
        "  print(\"Enter the correct month\")\n",
        "\n",
        "\n",
        "Si_days = (amount*interest*days1)/100\n",
        "total_interest = amount + Si_month + Si_days\n",
        "\n",
        "print(\"The simple interest is :\",total_interest)\n"
      ],
      "metadata": {
        "id": "A3vwjCMvdvVw",
        "colab": {
          "base_uri": "https://localhost:8080/"
        },
        "outputId": "57f7b592-9023-4c23-d4a4-dc2e37c4087e"
      },
      "execution_count": null,
      "outputs": [
        {
          "name": "stdout",
          "output_type": "stream",
          "text": [
            "ENter the amount : 1000\n"
          ]
        }
      ]
    },
    {
      "cell_type": "code",
      "source": [
        "for i in range(5):\n",
        "  print(i)"
      ],
      "metadata": {
        "id": "BOFUR68AG0vs",
        "colab": {
          "base_uri": "https://localhost:8080/"
        },
        "outputId": "8bd10120-a6db-42f5-b110-71c9b5ae5fe8"
      },
      "execution_count": 1,
      "outputs": [
        {
          "output_type": "stream",
          "name": "stdout",
          "text": [
            "0\n",
            "1\n",
            "2\n",
            "3\n",
            "4\n"
          ]
        }
      ]
    },
    {
      "cell_type": "code",
      "source": [
        "# Odd numbers\n",
        "for i in range(1,100,2):\n",
        "  print(i)"
      ],
      "metadata": {
        "colab": {
          "base_uri": "https://localhost:8080/"
        },
        "id": "bkYTflR8QbhJ",
        "outputId": "1bfa6104-09b1-4f8d-a786-43021e09dd47"
      },
      "execution_count": 5,
      "outputs": [
        {
          "output_type": "stream",
          "name": "stdout",
          "text": [
            "1\n",
            "3\n",
            "5\n",
            "7\n",
            "9\n",
            "11\n",
            "13\n",
            "15\n",
            "17\n",
            "19\n",
            "21\n",
            "23\n",
            "25\n",
            "27\n",
            "29\n",
            "31\n",
            "33\n",
            "35\n",
            "37\n",
            "39\n",
            "41\n",
            "43\n",
            "45\n",
            "47\n",
            "49\n",
            "51\n",
            "53\n",
            "55\n",
            "57\n",
            "59\n",
            "61\n",
            "63\n",
            "65\n",
            "67\n",
            "69\n",
            "71\n",
            "73\n",
            "75\n",
            "77\n",
            "79\n",
            "81\n",
            "83\n",
            "85\n",
            "87\n",
            "89\n",
            "91\n",
            "93\n",
            "95\n",
            "97\n",
            "99\n"
          ]
        }
      ]
    }
  ]
}